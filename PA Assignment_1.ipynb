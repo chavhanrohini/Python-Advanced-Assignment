{
 "cells": [
  {
   "cell_type": "markdown",
   "id": "32c6e058",
   "metadata": {},
   "source": [
    "1. What is the purpose of Python's OOP?\n",
    "\n",
    "   - Answer: The purpose of Python's Object-Oriented Programming (OOP) is to organize code into reusable, structured units called objects and classes. OOP promotes modularity, encapsulation, and abstraction, allowing developers to model real-world entities and their interactions more effectively. It enhances code readability, maintainability, and reusability by providing mechanisms like classes, objects, inheritance, and polymorphism.\n",
    "\n",
    "2. Where does an inheritance search look for an attribute?\n",
    "\n",
    "   - Answer: In Python, when you access an attribute of an object, the inheritance search looks for the attribute in the following order:\n",
    "     1. The instance itself (if it exists).\n",
    "     2. The class of the instance.\n",
    "     3. The base classes (superclasses) of the class, following the Method Resolution Order (MRO).\n",
    "\n",
    "3. How do you distinguish between a class object and an instance object?\n",
    "\n",
    "   - Answer: In Python, a class object represents the class itself and is used to create instances. An instance object, on the other hand, is a specific, individual object created from a class. You can think of a class as a blueprint, and instances as objects built from that blueprint.\n",
    "\n",
    "4. What makes the first argument in a class’s method function special?\n",
    "\n",
    "   - Answer: In Python, the first argument in a class's method function is conventionally named `self`. It represents the instance of the class on which the method is called. It allows methods to access and manipulate attributes and behavior specific to that instance. While `self` is a naming convention, you can technically use any variable name as the first argument, but it is a best practice to use `self` for clarity.\n",
    "\n",
    "5. What is the purpose of the __init__ method?\n",
    "\n",
    "   - Answer: The `__init__` method, also known as the constructor, is used to initialize instance-specific attributes when an object is created from a class. It is called automatically when you create a new instance of the class. Developers use it to set initial values for object properties or perform other setup tasks.\n",
    "\n",
    "6. What is the process for creating a class instance?\n",
    "\n",
    "   - Answer: To create a class instance in Python, follow these steps:\n",
    "     1. Define the class with the `class` keyword.\n",
    "     2. Create an instance of the class by calling the class as if it were a function, passing any required arguments to the `__init__` constructor method.\n",
    "     3. The instance is now ready to be used to access class attributes and methods.\n",
    "\n",
    "7. What is the process for creating a class?\n",
    "\n",
    "   - Answer: To create a class in Python, follow these steps:\n",
    "     1. Use the `class` keyword to define the class.\n",
    "     2. Provide a name for the class.\n",
    "     3. Optionally, define class-level attributes (variables) and methods (functions) within the class.\n",
    "\n",
    "8. How would you define the superclasses of a class?\n",
    "\n",
    "   - Answer: The superclasses of a class in Python are the parent classes from which it inherits attributes and methods. To define superclasses for a class, specify them in parentheses after the class name when defining the class. For example, to create a subclass `ChildClass` that inherits from `ParentClass`, you would define it like this: `class ChildClass(ParentClass):`. This establishes an inheritance relationship, making `ParentClass` the superclass of `ChildClass`.\n"
   ]
  },
  {
   "cell_type": "code",
   "execution_count": null,
   "id": "7f1d5390",
   "metadata": {},
   "outputs": [],
   "source": []
  }
 ],
 "metadata": {
  "kernelspec": {
   "display_name": "Python 3 (ipykernel)",
   "language": "python",
   "name": "python3"
  },
  "language_info": {
   "codemirror_mode": {
    "name": "ipython",
    "version": 3
   },
   "file_extension": ".py",
   "mimetype": "text/x-python",
   "name": "python",
   "nbconvert_exporter": "python",
   "pygments_lexer": "ipython3",
   "version": "3.9.12"
  }
 },
 "nbformat": 4,
 "nbformat_minor": 5
}
