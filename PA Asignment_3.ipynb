{
 "cells": [
  {
   "cell_type": "markdown",
   "id": "c7689db8",
   "metadata": {},
   "source": [
    "1. What is the concept of an abstract superclass?\n",
    "\n",
    "   - Answer: An abstract superclass, also known as an abstract base class (ABC) in Python, is a class that is not meant to be instantiated directly. Instead, it serves as a blueprint for other classes (subclasses) that inherit from it. Abstract superclasses define a common interface and may include abstract methods, which are methods without an implementation in the superclass. Subclasses are required to provide concrete implementations for these abstract methods. Abstract superclasses help enforce a common structure or behavior among related classes.\n",
    "\n",
    "2. What happens when a class statement's top level contains a basic assignment statement?\n",
    "\n",
    "   - Answer: When a class statement's top level contains a basic assignment statement, it defines a class-level attribute rather than an instance attribute. This attribute is shared among all instances of the class. Any changes made to the class-level attribute will affect all instances. \n",
    "   \n",
    "\n",
    "3. Why does a class need to manually call a superclass's __init__ method?\n",
    "\n",
    "   - Answer: In Python, when a class defines its own `__init__` method, it does not automatically call the superclass's `__init__` method unless explicitly instructed to do so. To invoke the superclass's `__init__` method, you need to call it explicitly using the `super()` function within the subclass's `__init__` method. This allows you to initialize the inherited attributes and behavior from the superclass in addition to any specific initialization in the subclass.\n",
    "\n",
    "4. How can you augment, instead of completely replacing, an inherited method?\n",
    "\n",
    "   - Answer: To augment (extend) an inherited method without completely replacing it, you can override the method in the subclass and call the superclass's method within the overridden method using `super()`. This allows you to add functionality before or after calling the superclass's method. \n",
    "   \n",
    "\n",
    "5. How is the local scope of a class different from that of a function?\n",
    "\n",
    "   - Answer: The local scope of a class and that of a function differ in several ways:\n",
    "   \n",
    "     - In a class, attributes defined at the class level are accessible throughout the class, making them a form of class-local scope. In contrast, variables defined within a function are typically limited to the function's scope.\n",
    "   \n",
    "     - In a class, you can access and modify class-level attributes within methods using `self`. In a function, local variables are accessed directly.\n",
    "     - Class methods and instance methods in a class have access to both class-level and instance-level attributes, providing more flexibility than functions. Functions, on the other hand, are typically isolated from external state unless explicitly passed arguments.\n",
    "     - Variables defined within a function are often short-lived, existing only during the function's execution. Class-level attributes, once defined, persist for the lifetime of the class.\n",
    "\n",
    "   These differences reflect the distinction between the scoping rules of classes and functions in Python.\n"
   ]
  },
  {
   "cell_type": "code",
   "execution_count": null,
   "id": "5cff6e76",
   "metadata": {},
   "outputs": [],
   "source": []
  }
 ],
 "metadata": {
  "kernelspec": {
   "display_name": "Python 3 (ipykernel)",
   "language": "python",
   "name": "python3"
  },
  "language_info": {
   "codemirror_mode": {
    "name": "ipython",
    "version": 3
   },
   "file_extension": ".py",
   "mimetype": "text/x-python",
   "name": "python",
   "nbconvert_exporter": "python",
   "pygments_lexer": "ipython3",
   "version": "3.9.12"
  }
 },
 "nbformat": 4,
 "nbformat_minor": 5
}
