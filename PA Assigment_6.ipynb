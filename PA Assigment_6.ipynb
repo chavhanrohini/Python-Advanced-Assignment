{
 "cells": [
  {
   "cell_type": "markdown",
   "id": "fc7f65f6",
   "metadata": {},
   "source": [
    "1. Describe three applications for exception processing:\n",
    "\n",
    "   - Error Handling: Exception processing is commonly used for error handling in programs. It allows you to detect and gracefully handle unexpected or erroneous situations, such as dividing by zero, attempting to access a non-existent file, or encountering network errors.\n",
    "   - Input Validation: When processing user input, exception handling can be used to validate and handle input errors. For example, checking for valid email addresses, ensuring numerical input, or handling out-of-range values.\n",
    "   - Resource Management: Exception processing is essential for managing resources like files, network connections, and database connections. It ensures that resources are properly released, even in the presence of exceptions, preventing resource leaks.\n",
    "\n",
    "\n",
    "\n",
    "\n",
    "2. What happens if you don't do something extra to treat an exception?\n",
    "\n",
    "   - Answer: If you don't handle an exception in your code, it will propagate up the call stack until it is caught by an appropriate exception handler, or it will terminate the program with an error message. This can lead to uncontrolled program termination or unexpected behavior, making it essential to handle exceptions appropriately to maintain program stability and reliability.\n",
    "\n",
    "\n",
    "\n",
    "\n",
    "3. What are your options for recovering from an exception in your script?\n",
    "\n",
    "   - Answer: When recovering from an exception in your script, you have several options:\n",
    "     - Try-Except Blocks: Use a try-except block to catch and handle exceptions, allowing your code to gracefully recover or continue execution.\n",
    "     - Logging: Log exception details for debugging and auditing purposes while allowing the program to continue running.\n",
    "     - Retry Logic: Implement logic to retry the failed operation if it is transient in nature, such as network requests or database connections.\n",
    "     - Graceful Degradation: When dealing with non-critical functionality, gracefully degrade the user experience by providing alternative paths or displaying informative error messages.\n",
    "     - Clean-up Actions: Ensure that any necessary clean-up actions are performed, such as closing files or releasing resources, even in the presence of exceptions.\n",
    "\n",
    "\n",
    "\n",
    "\n",
    "4. Describe two methods for triggering exceptions in your script:\n",
    "\n",
    "   - Raise Statement: You can explicitly raise exceptions using the `raise` statement followed by an exception type and an optional message. For example, `raise ValueError(\"Invalid input\")` raises a `ValueError` exception with the message \"Invalid input.\"\n",
    "   - Built-in Exception: You can trigger exceptions implicitly by causing certain conditions to occur, such as attempting to divide by zero, accessing an index that is out of range in a list, or trying to open a non-existent file. These built-in exceptions are raised automatically when the respective error conditions are encountered.\n",
    "\n",
    "\n",
    "\n",
    "\n",
    "5. Identify two methods for specifying actions to be executed at termination time, regardless of whether or not an exception exists:\n",
    "\n",
    "   - Using the `finally` Block: The `finally` block is used in combination with a `try` block to specify code that should be executed regardless of whether an exception is raised or not. It is typically used for clean-up actions, such as closing files or releasing resources.\n",
    "   - Using the `atexit` Module: The `atexit` module in Python allows you to register functions or methods to be executed when the program exits, whether normally or due to an unhandled exception. This is useful for performing cleanup or finalization tasks before program termination.\n"
   ]
  },
  {
   "cell_type": "code",
   "execution_count": null,
   "id": "e0aaaf54",
   "metadata": {},
   "outputs": [],
   "source": []
  }
 ],
 "metadata": {
  "kernelspec": {
   "display_name": "Python 3 (ipykernel)",
   "language": "python",
   "name": "python3"
  },
  "language_info": {
   "codemirror_mode": {
    "name": "ipython",
    "version": 3
   },
   "file_extension": ".py",
   "mimetype": "text/x-python",
   "name": "python",
   "nbconvert_exporter": "python",
   "pygments_lexer": "ipython3",
   "version": "3.9.12"
  }
 },
 "nbformat": 4,
 "nbformat_minor": 5
}
