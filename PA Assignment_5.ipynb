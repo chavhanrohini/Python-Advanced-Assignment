{
 "cells": [
  {
   "cell_type": "markdown",
   "id": "a0703333",
   "metadata": {},
   "source": [
    "1. What is the meaning of multiple inheritance?\n",
    "\n",
    "   - Answer: Multiple inheritance is a concept in object-oriented programming where a class inherits attributes and methods from more than one parent class. In other words, a subclass can inherit properties and behaviors from multiple superclasses. Multiple inheritance can lead to complex class hierarchies and requires careful handling to avoid issues like the \"diamond problem\" where conflicts arise when two superclasses have methods or attributes with the same name.\n",
    "\n",
    "\n",
    "2. What is the concept of delegation?\n",
    "\n",
    "   - Answer: Delegation is a design pattern in which one object forwards or delegates a particular task or responsibility to another object. Instead of inheriting behavior directly, an object delegates the task to another object that specializes in performing that task. Delegation is often used to achieve code reuse and maintainability by separating concerns and promoting a more modular design.\n",
    "\n",
    "\n",
    "3. What is the concept of composition?\n",
    "\n",
    "   - Answer: Composition is a design principle where objects of one class are composed of (contain) objects of other classes as attributes. It allows you to build complex objects by combining simpler objects. Composition is often used to create relationships between objects that have a \"has-a\" relationship, as opposed to inheritance, which represents an \"is-a\" relationship. It promotes code reusability, flexibility, and maintainability.\n",
    "\n",
    "\n",
    "4. What are bound methods and how do we use them?\n",
    "\n",
    "   - Answer: Bound methods are methods that are associated with a specific instance of a class. When you call a method on an instance, it becomes a bound method, and the instance itself is automatically passed as the first argument (usually named `self`) to the method. Bound methods allow you to access and manipulate instance-specific data and behavior. You typically don't need to explicitly pass the instance when calling bound methods; Python handles it for you.\n",
    "\n",
    "\n",
    "5. What is the purpose of pseudoprivate attributes?\n",
    "\n",
    "   - Answer: Pseudoprivate attributes in Python are attributes that are prefixed with a double underscore (e.g., `__attribute`). They are used to make an attribute \"private\" in the sense that it cannot be easily accessed or modified from outside the class. However, they are not truly private, as Python name mangling allows access using a modified name. The purpose of pseudoprivate attributes is to indicate that the attribute is intended for internal use within the class and should not be accessed directly by external code. They help encapsulate data and prevent accidental modification or access from external sources.\n"
   ]
  },
  {
   "cell_type": "code",
   "execution_count": null,
   "id": "86782302",
   "metadata": {},
   "outputs": [],
   "source": []
  }
 ],
 "metadata": {
  "kernelspec": {
   "display_name": "Python 3 (ipykernel)",
   "language": "python",
   "name": "python3"
  },
  "language_info": {
   "codemirror_mode": {
    "name": "ipython",
    "version": 3
   },
   "file_extension": ".py",
   "mimetype": "text/x-python",
   "name": "python",
   "nbconvert_exporter": "python",
   "pygments_lexer": "ipython3",
   "version": "3.9.12"
  }
 },
 "nbformat": 4,
 "nbformat_minor": 5
}
