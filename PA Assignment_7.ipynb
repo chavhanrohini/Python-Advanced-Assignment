{
 "cells": [
  {
   "cell_type": "markdown",
   "id": "f5bb6e34",
   "metadata": {},
   "source": [
    "1. What is the purpose of the try statement?\n",
    "\n",
    "   - Answer: The purpose of the `try` statement in Python is to enclose a block of code that may raise exceptions or errors. It allows you to handle exceptions gracefully by providing a mechanism for catching and handling exceptions, preventing them from causing uncontrolled program termination.\n",
    "\n",
    "\n",
    "2. What are the two most popular try statement variations?\n",
    "\n",
    "   - Answer: The two most popular variations of the `try` statement are:\n",
    "     - `try-except`: This variation allows you to catch and handle specific exceptions that may be raised within the `try` block. You specify the types of exceptions you want to catch in the `except` block.\n",
    "     - `try-finally`: This variation ensures that a block of code in the `finally` block is executed regardless of whether an exception was raised or not. It is commonly used for clean-up actions like closing files or releasing resources.\n",
    "\n",
    "\n",
    "3. What is the purpose of the raise statement?\n",
    "\n",
    "   - Answer: The `raise` statement in Python is used to explicitly raise exceptions or errors in your code. It allows you to signal that an exceptional condition has occurred and can include an optional exception type and message. By using the `raise` statement, you can control when and why exceptions are raised, which is helpful for error handling and debugging.\n",
    "\n",
    "\n",
    "4. What does the assert statement do, and what other statement is it like?\n",
    "\n",
    "   - Answer: The `assert` statement in Python is used to test a condition as an assertion. If the condition evaluates to `False`, the `assert` statement raises an `AssertionError` exception with an optional error message. It is typically used for debugging and ensuring that specific conditions hold true during program execution. The `assert` statement is similar to the `if` statement but is primarily used for debugging and is often disabled in production code for performance reasons.\n",
    "\n",
    "\n",
    "5. What is the purpose of the `with/as` argument, and what other statement is it like?\n",
    "\n",
    "   - Answer: The `with/as` statement in Python is used for resource management, such as opening and closing files, acquiring and releasing locks, and other context-related tasks. It ensures that certain operations are performed before and after a block of code, making it similar to the `try-finally` statement. However, the `with/as` statement provides a more convenient and structured way to manage resources and is commonly used with objects that have a defined context management protocol, such as files (`open()`), database connections, and custom objects with context methods (`__enter__` and `__exit__`).\n"
   ]
  },
  {
   "cell_type": "code",
   "execution_count": null,
   "id": "86bc569a",
   "metadata": {},
   "outputs": [],
   "source": []
  }
 ],
 "metadata": {
  "kernelspec": {
   "display_name": "Python 3 (ipykernel)",
   "language": "python",
   "name": "python3"
  },
  "language_info": {
   "codemirror_mode": {
    "name": "ipython",
    "version": 3
   },
   "file_extension": ".py",
   "mimetype": "text/x-python",
   "name": "python",
   "nbconvert_exporter": "python",
   "pygments_lexer": "ipython3",
   "version": "3.9.12"
  }
 },
 "nbformat": 4,
 "nbformat_minor": 5
}
