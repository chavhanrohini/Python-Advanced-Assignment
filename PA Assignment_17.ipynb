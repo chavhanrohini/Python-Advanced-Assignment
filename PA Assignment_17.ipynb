{
 "cells": [
  {
   "cell_type": "markdown",
   "id": "a24e3e84",
   "metadata": {},
   "source": [
    "Q1. Explain the difference between greedy and non-greedy syntax with visual terms in as few words as possible. What is the bare minimum effort required to transform a greedy pattern into a non-greedy one? What characters or characters can you introduce or change?\n",
    "\n",
    "A1. Greedy syntax matches as much as possible, while non-greedy (or lazy) syntax matches as little as possible. To transform a greedy pattern into non-greedy, add a `?` after a quantifier like `*` or `+`. For example, change `.*` (greedy) to `.*?` (non-greedy) to match the shortest possible string.\n",
    "\n",
    "Q2. When exactly does greedy versus non-greedy make a difference? What if you're looking for a non-greedy match but the only one available is greedy?\n",
    "\n",
    "A2. Greedy vs. non-greedy matters when matching substrings with quantifiers like `*` or `+`. It affects whether you get the longest (greedy) or shortest (non-greedy) match. If only a greedy match is available, you may get more content than desired. In such cases, use non-greedy syntax if possible.\n",
    "\n",
    "Q3. In a simple match of a string, which looks only for one match and does not do any replacement, is the use of a nontagged group likely to make any practical difference?\n",
    "\n",
    "A3. In a simple match without replacement, a non-tagged group `(?:...)` vs. a non-capturing group `(?:...)` typically doesn't make a practical difference. Both are used to group expressions without capturing the matched content.\n",
    "\n",
    "Q4. Describe a scenario in which using a non-tagged category would have a significant impact on the program's outcomes.\n",
    "\n",
    "A4. Using a non-tagged category, such as `(?:...)`, can make a significant impact when you want to group expressions for quantifiers or alternation but don't want to capture the matched content. It helps avoid unnecessary capture groups when using functions like `re.findall()`.\n",
    "\n",
    "Q5. Unlike a normal regex pattern, a look-ahead condition does not consume the characters it examines. Describe a situation in which this could make a difference in the results of your program.\n",
    "\n",
    "A5. Look-ahead conditions are useful when you want to find a pattern but not consume the characters it examines. For example, in parsing HTML tags, you might use a positive look-ahead to find `<tag>` without consuming it, allowing you to locate all tags while preserving the original text.\n",
    "\n",
    "Q6. In standard expressions, what is the difference between positive look-ahead and negative look-ahead?\n",
    "\n",
    "A6. Positive look-ahead (`(?=...)`) asserts that a pattern must be followed by another pattern, but it doesn't consume characters. Negative look-ahead (`(?!...)`) asserts that a pattern must not be followed by another pattern. Both are used to make conditions without consuming text.\n",
    "\n",
    "Q7. What is the benefit of referring to groups by name rather than by number in a standard expression?\n",
    "\n",
    "A7. Referring to groups by name improves code readability and maintainability. It makes regex patterns self-explanatory and allows you to access captured content by meaningful names, enhancing code clarity.\n",
    "\n",
    "Q8. Can you identify repeated items within a target string using named groups, as in \"The cow jumped over the moon\"?\n",
    "\n",
    "A8. Named groups can be used to identify repeated items in a target string. For example, with the pattern `(?P<word>\\w+)\\s+\\1`, you can find repeated words in the string like \"The cow jumped over the moon.\"\n",
    "\n",
    "Q9. When parsing a string, what is at least one thing that the Scanner interface does for you that the `re.findall` feature does not?\n",
    "\n",
    "A9. The Scanner interface, unlike `re.findall`, allows you to tokenize a string by specifying patterns for different token types. It provides more control over tokenization and can handle complex parsing tasks, not just simple pattern matching.\n",
    "\n",
    "Q10. Does a scanner object have to be named scanner?\n",
    "\n",
    "A10. No, a scanner object does not have to be named \"scanner.\" You can name it as desired, following Python's naming conventions. The name you choose should be meaningful and relevant to your code to enhance readability.\n"
   ]
  },
  {
   "cell_type": "code",
   "execution_count": null,
   "id": "0777eff6",
   "metadata": {},
   "outputs": [],
   "source": []
  }
 ],
 "metadata": {
  "kernelspec": {
   "display_name": "Python 3 (ipykernel)",
   "language": "python",
   "name": "python3"
  },
  "language_info": {
   "codemirror_mode": {
    "name": "ipython",
    "version": 3
   },
   "file_extension": ".py",
   "mimetype": "text/x-python",
   "name": "python",
   "nbconvert_exporter": "python",
   "pygments_lexer": "ipython3",
   "version": "3.9.12"
  }
 },
 "nbformat": 4,
 "nbformat_minor": 5
}
